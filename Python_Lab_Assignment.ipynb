{
 "cells": [
  {
   "cell_type": "markdown",
   "metadata": {},
   "source": [
    "# PyCity Schools Analysis\n",
    "\n",
    "* As a whole, schools with higher budgets, did not yield better test results. By contrast, schools with higher spending per student actually (\\\\$645 - 675) underperformed compared to schools with smaller budgets (\\\\$585 per student).\n",
    "\n",
    "* As a whole, smaller and medium sized schools dramatically out-performed large sized schools on passing math performances (89-91% passing vs 67%).\n",
    "\n",
    "* As a whole, charter schools out-performed the public district schools across all metrics. However, more analysis will be required to glean if the effect is due to school practices or the fact that charter schools tend to serve smaller student populations per school. \n",
    "---"
   ]
  },
  {
   "cell_type": "markdown",
   "metadata": {},
   "source": [
    "**Note:**\n",
    "Instructions have been included for each segment. You do not have to follow them exactly, but they are included to help you think through the steps."
   ]
  },
  {
   "cell_type": "code",
   "execution_count": 5,
   "metadata": {
    "ExecuteTime": {
     "end_time": "2022-08-06T06:08:31.925112Z",
     "start_time": "2022-08-06T06:08:29.337754Z"
    }
   },
   "outputs": [
    {
     "data": {
      "text/html": [
       "<div>\n",
       "<style scoped>\n",
       "    .dataframe tbody tr th:only-of-type {\n",
       "        vertical-align: middle;\n",
       "    }\n",
       "\n",
       "    .dataframe tbody tr th {\n",
       "        vertical-align: top;\n",
       "    }\n",
       "\n",
       "    .dataframe thead th {\n",
       "        text-align: right;\n",
       "    }\n",
       "</style>\n",
       "<table border=\"1\" class=\"dataframe\">\n",
       "  <thead>\n",
       "    <tr style=\"text-align: right;\">\n",
       "      <th></th>\n",
       "      <th>Student ID</th>\n",
       "      <th>student_name</th>\n",
       "      <th>gender</th>\n",
       "      <th>grade</th>\n",
       "      <th>school_name</th>\n",
       "      <th>reading_score</th>\n",
       "      <th>math_score</th>\n",
       "      <th>School ID</th>\n",
       "      <th>type</th>\n",
       "      <th>size</th>\n",
       "      <th>budget</th>\n",
       "    </tr>\n",
       "  </thead>\n",
       "  <tbody>\n",
       "    <tr>\n",
       "      <th>0</th>\n",
       "      <td>0</td>\n",
       "      <td>Paul Bradley</td>\n",
       "      <td>M</td>\n",
       "      <td>9th</td>\n",
       "      <td>Huang High School</td>\n",
       "      <td>66</td>\n",
       "      <td>79</td>\n",
       "      <td>0</td>\n",
       "      <td>District</td>\n",
       "      <td>2917</td>\n",
       "      <td>1910635</td>\n",
       "    </tr>\n",
       "    <tr>\n",
       "      <th>1</th>\n",
       "      <td>1</td>\n",
       "      <td>Victor Smith</td>\n",
       "      <td>M</td>\n",
       "      <td>12th</td>\n",
       "      <td>Huang High School</td>\n",
       "      <td>94</td>\n",
       "      <td>61</td>\n",
       "      <td>0</td>\n",
       "      <td>District</td>\n",
       "      <td>2917</td>\n",
       "      <td>1910635</td>\n",
       "    </tr>\n",
       "    <tr>\n",
       "      <th>2</th>\n",
       "      <td>2</td>\n",
       "      <td>Kevin Rodriguez</td>\n",
       "      <td>M</td>\n",
       "      <td>12th</td>\n",
       "      <td>Huang High School</td>\n",
       "      <td>90</td>\n",
       "      <td>60</td>\n",
       "      <td>0</td>\n",
       "      <td>District</td>\n",
       "      <td>2917</td>\n",
       "      <td>1910635</td>\n",
       "    </tr>\n",
       "    <tr>\n",
       "      <th>3</th>\n",
       "      <td>3</td>\n",
       "      <td>Dr. Richard Scott</td>\n",
       "      <td>M</td>\n",
       "      <td>12th</td>\n",
       "      <td>Huang High School</td>\n",
       "      <td>67</td>\n",
       "      <td>58</td>\n",
       "      <td>0</td>\n",
       "      <td>District</td>\n",
       "      <td>2917</td>\n",
       "      <td>1910635</td>\n",
       "    </tr>\n",
       "    <tr>\n",
       "      <th>4</th>\n",
       "      <td>4</td>\n",
       "      <td>Bonnie Ray</td>\n",
       "      <td>F</td>\n",
       "      <td>9th</td>\n",
       "      <td>Huang High School</td>\n",
       "      <td>97</td>\n",
       "      <td>84</td>\n",
       "      <td>0</td>\n",
       "      <td>District</td>\n",
       "      <td>2917</td>\n",
       "      <td>1910635</td>\n",
       "    </tr>\n",
       "  </tbody>\n",
       "</table>\n",
       "</div>"
      ],
      "text/plain": [
       "   Student ID       student_name gender grade        school_name  \\\n",
       "0           0       Paul Bradley      M   9th  Huang High School   \n",
       "1           1       Victor Smith      M  12th  Huang High School   \n",
       "2           2    Kevin Rodriguez      M  12th  Huang High School   \n",
       "3           3  Dr. Richard Scott      M  12th  Huang High School   \n",
       "4           4         Bonnie Ray      F   9th  Huang High School   \n",
       "\n",
       "   reading_score  math_score  School ID      type  size   budget  \n",
       "0             66          79          0  District  2917  1910635  \n",
       "1             94          61          0  District  2917  1910635  \n",
       "2             90          60          0  District  2917  1910635  \n",
       "3             67          58          0  District  2917  1910635  \n",
       "4             97          84          0  District  2917  1910635  "
      ]
     },
     "execution_count": 5,
     "metadata": {},
     "output_type": "execute_result"
    }
   ],
   "source": [
    "# Dependencies and Setup\n",
    "import pandas as pd\n",
    "import numpy as np\n",
    "\n",
    "# File to Load (Remember to Change These)\n",
    "school_data_to_load = \"schools_complete.csv\"\n",
    "student_data_to_load = \"students_complete.csv\"\n",
    "\n",
    "# Read School and Student Data File and store into Pandas Data Frames\n",
    "school_data = pd.read_csv(school_data_to_load)\n",
    "student_data = pd.read_csv(student_data_to_load)\n",
    "\n",
    "# Combine the data into a single dataset\n",
    "school_data_complete = pd.merge(student_data, school_data, how=\"left\", on=[\"school_name\", \"school_name\"])\n",
    "school_data_complete.head()\n",
    "\n",
    "# school_data_complete.count()"
   ]
  },
  {
   "cell_type": "markdown",
   "metadata": {},
   "source": [
    "## District Summary\n",
    "\n",
    "* Calculate the total number of schools\n",
    "\n",
    "* Calculate the total number of students\n",
    "\n",
    "* Calculate the total budget\n",
    "\n",
    "* Calculate the average math score \n",
    "\n",
    "* Calculate the average reading score\n",
    "\n",
    "* Calculate the overall passing rate (overall average score), i.e. (avg. math score + avg. reading score)/2\n",
    "\n",
    "* Calculate the percentage of students with a passing math score (70 or greater)\n",
    "\n",
    "* Calculate the percentage of students with a passing reading score (70 or greater)\n",
    "\n",
    "* Create a dataframe to hold the above results\n",
    "\n",
    "* Optional: give the displayed data cleaner formatting"
   ]
  },
  {
   "cell_type": "code",
   "execution_count": 6,
   "metadata": {},
   "outputs": [
    {
     "data": {
      "text/html": [
       "<div>\n",
       "<style scoped>\n",
       "    .dataframe tbody tr th:only-of-type {\n",
       "        vertical-align: middle;\n",
       "    }\n",
       "\n",
       "    .dataframe tbody tr th {\n",
       "        vertical-align: top;\n",
       "    }\n",
       "\n",
       "    .dataframe thead th {\n",
       "        text-align: right;\n",
       "    }\n",
       "</style>\n",
       "<table border=\"1\" class=\"dataframe\">\n",
       "  <thead>\n",
       "    <tr style=\"text-align: right;\">\n",
       "      <th></th>\n",
       "      <th>Student ID</th>\n",
       "      <th>reading_score</th>\n",
       "      <th>math_score</th>\n",
       "      <th>School ID</th>\n",
       "      <th>size</th>\n",
       "      <th>budget</th>\n",
       "    </tr>\n",
       "  </thead>\n",
       "  <tbody>\n",
       "    <tr>\n",
       "      <th>count</th>\n",
       "      <td>39170.000000</td>\n",
       "      <td>39170.00000</td>\n",
       "      <td>39170.000000</td>\n",
       "      <td>39170.000000</td>\n",
       "      <td>39170.000000</td>\n",
       "      <td>3.917000e+04</td>\n",
       "    </tr>\n",
       "    <tr>\n",
       "      <th>mean</th>\n",
       "      <td>19584.500000</td>\n",
       "      <td>81.87784</td>\n",
       "      <td>78.985371</td>\n",
       "      <td>6.978172</td>\n",
       "      <td>3332.957110</td>\n",
       "      <td>2.117241e+06</td>\n",
       "    </tr>\n",
       "    <tr>\n",
       "      <th>std</th>\n",
       "      <td>11307.549359</td>\n",
       "      <td>10.23958</td>\n",
       "      <td>12.309968</td>\n",
       "      <td>4.444329</td>\n",
       "      <td>1323.914069</td>\n",
       "      <td>8.749987e+05</td>\n",
       "    </tr>\n",
       "    <tr>\n",
       "      <th>min</th>\n",
       "      <td>0.000000</td>\n",
       "      <td>63.00000</td>\n",
       "      <td>55.000000</td>\n",
       "      <td>0.000000</td>\n",
       "      <td>427.000000</td>\n",
       "      <td>2.480870e+05</td>\n",
       "    </tr>\n",
       "    <tr>\n",
       "      <th>25%</th>\n",
       "      <td>9792.250000</td>\n",
       "      <td>73.00000</td>\n",
       "      <td>69.000000</td>\n",
       "      <td>3.000000</td>\n",
       "      <td>1858.000000</td>\n",
       "      <td>1.081356e+06</td>\n",
       "    </tr>\n",
       "    <tr>\n",
       "      <th>50%</th>\n",
       "      <td>19584.500000</td>\n",
       "      <td>82.00000</td>\n",
       "      <td>79.000000</td>\n",
       "      <td>7.000000</td>\n",
       "      <td>2949.000000</td>\n",
       "      <td>1.910635e+06</td>\n",
       "    </tr>\n",
       "    <tr>\n",
       "      <th>75%</th>\n",
       "      <td>29376.750000</td>\n",
       "      <td>91.00000</td>\n",
       "      <td>89.000000</td>\n",
       "      <td>11.000000</td>\n",
       "      <td>4635.000000</td>\n",
       "      <td>3.022020e+06</td>\n",
       "    </tr>\n",
       "    <tr>\n",
       "      <th>max</th>\n",
       "      <td>39169.000000</td>\n",
       "      <td>99.00000</td>\n",
       "      <td>99.000000</td>\n",
       "      <td>14.000000</td>\n",
       "      <td>4976.000000</td>\n",
       "      <td>3.124928e+06</td>\n",
       "    </tr>\n",
       "  </tbody>\n",
       "</table>\n",
       "</div>"
      ],
      "text/plain": [
       "         Student ID  reading_score    math_score     School ID          size  \\\n",
       "count  39170.000000    39170.00000  39170.000000  39170.000000  39170.000000   \n",
       "mean   19584.500000       81.87784     78.985371      6.978172   3332.957110   \n",
       "std    11307.549359       10.23958     12.309968      4.444329   1323.914069   \n",
       "min        0.000000       63.00000     55.000000      0.000000    427.000000   \n",
       "25%     9792.250000       73.00000     69.000000      3.000000   1858.000000   \n",
       "50%    19584.500000       82.00000     79.000000      7.000000   2949.000000   \n",
       "75%    29376.750000       91.00000     89.000000     11.000000   4635.000000   \n",
       "max    39169.000000       99.00000     99.000000     14.000000   4976.000000   \n",
       "\n",
       "             budget  \n",
       "count  3.917000e+04  \n",
       "mean   2.117241e+06  \n",
       "std    8.749987e+05  \n",
       "min    2.480870e+05  \n",
       "25%    1.081356e+06  \n",
       "50%    1.910635e+06  \n",
       "75%    3.022020e+06  \n",
       "max    3.124928e+06  "
      ]
     },
     "execution_count": 6,
     "metadata": {},
     "output_type": "execute_result"
    }
   ],
   "source": [
    "school_data_complete.describe()\n",
    "\n",
    "\n"
   ]
  },
  {
   "cell_type": "code",
   "execution_count": 7,
   "metadata": {},
   "outputs": [
    {
     "name": "stdout",
     "output_type": "stream",
     "text": [
      "Total number of schools: 15\n"
     ]
    }
   ],
   "source": [
    "total_schools = school_data_complete[\"school_name\"].nunique()\n",
    "print(f'Total number of schools: {total_schools}')\n",
    "\n",
    "\n"
   ]
  },
  {
   "cell_type": "code",
   "execution_count": 8,
   "metadata": {},
   "outputs": [
    {
     "name": "stdout",
     "output_type": "stream",
     "text": [
      "Total number of students: 39170\n"
     ]
    }
   ],
   "source": [
    "total_students = len(school_data_complete[\"student_name\"])\n",
    "print(f'Total number of students: {total_students}')\n",
    "\n",
    "\n"
   ]
  },
  {
   "cell_type": "code",
   "execution_count": 9,
   "metadata": {},
   "outputs": [
    {
     "name": "stdout",
     "output_type": "stream",
     "text": [
      "Total school budget: 82932329558\n"
     ]
    }
   ],
   "source": [
    "total_budget = school_data_complete[\"budget\"].sum()\n",
    "print(f'Total school budget: {total_budget}')\n",
    "\n",
    "\n"
   ]
  },
  {
   "cell_type": "code",
   "execution_count": 10,
   "metadata": {},
   "outputs": [
    {
     "name": "stdout",
     "output_type": "stream",
     "text": [
      "Average math score: 78.98537145774827\n"
     ]
    }
   ],
   "source": [
    "avg_math = school_data_complete[\"math_score\"].mean()\n",
    "print(f'Average math score: {avg_math}')\n",
    "\n",
    "\n"
   ]
  },
  {
   "cell_type": "code",
   "execution_count": 11,
   "metadata": {},
   "outputs": [
    {
     "name": "stdout",
     "output_type": "stream",
     "text": [
      "Average reading score: 81.87784018381414\n"
     ]
    }
   ],
   "source": [
    "avg_read = school_data_complete[\"reading_score\"].mean()\n",
    "print(f'Average reading score: {avg_read}')\n",
    "\n",
    "\n"
   ]
  },
  {
   "cell_type": "code",
   "execution_count": 12,
   "metadata": {},
   "outputs": [
    {
     "name": "stdout",
     "output_type": "stream",
     "text": [
      "Overall average score: 80.43160582078121\n"
     ]
    }
   ],
   "source": [
    "overall_score = (avg_math + avg_read)/2\n",
    "print(f'Overall average score: {overall_score}')\n",
    "\n",
    "\n"
   ]
  },
  {
   "cell_type": "code",
   "execution_count": 13,
   "metadata": {},
   "outputs": [
    {
     "name": "stdout",
     "output_type": "stream",
     "text": [
      "Percentage passing math: 74.98%\n",
      "Percentage passing read: 85.81%\n"
     ]
    }
   ],
   "source": [
    "pass_math = len(school_data_complete.loc[school_data_complete[\"math_score\"] >= 70])\n",
    "overall_math = len(school_data_complete)\n",
    "pass_math_ratio = round(pass_math / overall_math * 100, 2)\n",
    "print(f'Percentage passing math: {pass_math_ratio}%')\n",
    "\n",
    "\n",
    "pass_read = len(school_data_complete.loc[school_data_complete[\"reading_score\"] >= 70])\n",
    "overall_read = len(school_data_complete)\n",
    "pass_read_ratio = round(pass_read / overall_read * 100, 2)\n",
    "print(f'Percentage passing read: {pass_read_ratio}%')\n",
    "\n"
   ]
  },
  {
   "cell_type": "markdown",
   "metadata": {},
   "source": [
    "## School Summary"
   ]
  },
  {
   "cell_type": "markdown",
   "metadata": {},
   "source": [
    "* Create an overview table that summarizes key metrics about each school, including:\n",
    "  * School Name\n",
    "  * School Type\n",
    "  * Total Students\n",
    "  * Total School Budget\n",
    "  * Per Student Budget\n",
    "  * Average Math Score\n",
    "  * Average Reading Score\n",
    "  * % Passing Math\n",
    "  * % Passing Reading\n",
    "  * Overall Passing Rate (Average of the above two)\n",
    "  \n",
    "* Create a dataframe to hold the above results"
   ]
  },
  {
   "cell_type": "markdown",
   "metadata": {},
   "source": [
    "### Top Performing Schools (By Passing Rate)"
   ]
  },
  {
   "cell_type": "markdown",
   "metadata": {},
   "source": [
    "* Sort and display the top five schools in overall passing rate"
   ]
  },
  {
   "cell_type": "code",
   "execution_count": 14,
   "metadata": {},
   "outputs": [
    {
     "name": "stderr",
     "output_type": "stream",
     "text": [
      "C:\\Users\\kurox\\AppData\\Local\\Temp\\ipykernel_12904\\420925775.py:5: FutureWarning: The provided callable <built-in function sum> is currently using SeriesGroupBy.sum. In a future version of pandas, the provided callable will be used directly. To keep current behavior pass the string \"sum\" instead.\n",
      "  school_summary = school_data_complete.groupby(['school_name', 'type']).agg(\n",
      "C:\\Users\\kurox\\AppData\\Local\\Temp\\ipykernel_12904\\420925775.py:5: FutureWarning: The provided callable <function mean at 0x000001BAEEAA9EE0> is currently using SeriesGroupBy.mean. In a future version of pandas, the provided callable will be used directly. To keep current behavior pass the string \"mean\" instead.\n",
      "  school_summary = school_data_complete.groupby(['school_name', 'type']).agg(\n"
     ]
    },
    {
     "data": {
      "text/html": [
       "<div>\n",
       "<style scoped>\n",
       "    .dataframe tbody tr th:only-of-type {\n",
       "        vertical-align: middle;\n",
       "    }\n",
       "\n",
       "    .dataframe tbody tr th {\n",
       "        vertical-align: top;\n",
       "    }\n",
       "\n",
       "    .dataframe thead th {\n",
       "        text-align: right;\n",
       "    }\n",
       "</style>\n",
       "<table border=\"1\" class=\"dataframe\">\n",
       "  <thead>\n",
       "    <tr style=\"text-align: right;\">\n",
       "      <th></th>\n",
       "      <th>school_name</th>\n",
       "      <th>type</th>\n",
       "      <th>total_student</th>\n",
       "      <th>total_school_budget</th>\n",
       "      <th>avg_math_score</th>\n",
       "      <th>avg_read_score</th>\n",
       "      <th>pass_math</th>\n",
       "      <th>pass_read</th>\n",
       "      <th>per_student_budget</th>\n",
       "      <th>pass_math_ratio</th>\n",
       "      <th>pass_read_ratio</th>\n",
       "      <th>overall_pass_ratio</th>\n",
       "    </tr>\n",
       "  </thead>\n",
       "  <tbody>\n",
       "    <tr>\n",
       "      <th>9</th>\n",
       "      <td>Pena High School</td>\n",
       "      <td>Charter</td>\n",
       "      <td>962</td>\n",
       "      <td>563595396</td>\n",
       "      <td>83.839917</td>\n",
       "      <td>84.044699</td>\n",
       "      <td>882</td>\n",
       "      <td>887</td>\n",
       "      <td>585858.0</td>\n",
       "      <td>0.92</td>\n",
       "      <td>0.92</td>\n",
       "      <td>0.92</td>\n",
       "    </tr>\n",
       "    <tr>\n",
       "      <th>6</th>\n",
       "      <td>Holden High School</td>\n",
       "      <td>Charter</td>\n",
       "      <td>427</td>\n",
       "      <td>105933149</td>\n",
       "      <td>83.803279</td>\n",
       "      <td>83.814988</td>\n",
       "      <td>387</td>\n",
       "      <td>396</td>\n",
       "      <td>248087.0</td>\n",
       "      <td>0.91</td>\n",
       "      <td>0.93</td>\n",
       "      <td>0.92</td>\n",
       "    </tr>\n",
       "    <tr>\n",
       "      <th>13</th>\n",
       "      <td>Wilson High School</td>\n",
       "      <td>Charter</td>\n",
       "      <td>2283</td>\n",
       "      <td>3012587442</td>\n",
       "      <td>83.274201</td>\n",
       "      <td>83.989488</td>\n",
       "      <td>2076</td>\n",
       "      <td>2129</td>\n",
       "      <td>1319574.0</td>\n",
       "      <td>0.91</td>\n",
       "      <td>0.93</td>\n",
       "      <td>0.92</td>\n",
       "    </tr>\n",
       "    <tr>\n",
       "      <th>1</th>\n",
       "      <td>Cabrera High School</td>\n",
       "      <td>Charter</td>\n",
       "      <td>1858</td>\n",
       "      <td>2009159448</td>\n",
       "      <td>83.061895</td>\n",
       "      <td>83.975780</td>\n",
       "      <td>1664</td>\n",
       "      <td>1744</td>\n",
       "      <td>1081356.0</td>\n",
       "      <td>0.90</td>\n",
       "      <td>0.94</td>\n",
       "      <td>0.92</td>\n",
       "    </tr>\n",
       "    <tr>\n",
       "      <th>4</th>\n",
       "      <td>Griffin High School</td>\n",
       "      <td>Charter</td>\n",
       "      <td>1468</td>\n",
       "      <td>1346890000</td>\n",
       "      <td>83.351499</td>\n",
       "      <td>83.816757</td>\n",
       "      <td>1317</td>\n",
       "      <td>1371</td>\n",
       "      <td>917500.0</td>\n",
       "      <td>0.90</td>\n",
       "      <td>0.93</td>\n",
       "      <td>0.92</td>\n",
       "    </tr>\n",
       "  </tbody>\n",
       "</table>\n",
       "</div>"
      ],
      "text/plain": [
       "            school_name     type  total_student  total_school_budget  \\\n",
       "9      Pena High School  Charter            962            563595396   \n",
       "6    Holden High School  Charter            427            105933149   \n",
       "13   Wilson High School  Charter           2283           3012587442   \n",
       "1   Cabrera High School  Charter           1858           2009159448   \n",
       "4   Griffin High School  Charter           1468           1346890000   \n",
       "\n",
       "    avg_math_score  avg_read_score  pass_math  pass_read  per_student_budget  \\\n",
       "9        83.839917       84.044699        882        887            585858.0   \n",
       "6        83.803279       83.814988        387        396            248087.0   \n",
       "13       83.274201       83.989488       2076       2129           1319574.0   \n",
       "1        83.061895       83.975780       1664       1744           1081356.0   \n",
       "4        83.351499       83.816757       1317       1371            917500.0   \n",
       "\n",
       "    pass_math_ratio  pass_read_ratio  overall_pass_ratio  \n",
       "9              0.92             0.92                0.92  \n",
       "6              0.91             0.93                0.92  \n",
       "13             0.91             0.93                0.92  \n",
       "1              0.90             0.94                0.92  \n",
       "4              0.90             0.93                0.92  "
      ]
     },
     "execution_count": 14,
     "metadata": {},
     "output_type": "execute_result"
    }
   ],
   "source": [
    "#  Sort and display the top five schools in overall passing rate\n",
    "pass_math = school_data_complete.groupby(['school_name', 'type'])['math_score'].apply(lambda x:(x>70).sum()).reset_index(name='count')\n",
    "\n",
    "\n",
    "school_summary = school_data_complete.groupby(['school_name', 'type']).agg(\n",
    "                        total_student = pd.NamedAgg(column='Student ID', aggfunc=len),\n",
    "                        total_school_budget = pd.NamedAgg(column='budget', aggfunc=sum),\n",
    "                        avg_math_score = pd.NamedAgg(column='math_score', aggfunc=np.mean),\n",
    "                        avg_read_score = pd.NamedAgg(column='reading_score', aggfunc=np.mean),\n",
    "                        pass_math = pd.NamedAgg(column='math_score', aggfunc=lambda x:(x>70).sum()),\n",
    "                        pass_read = pd.NamedAgg(column='reading_score', aggfunc=lambda x:(x>70).sum())\n",
    "                        ).reset_index()\n",
    "\n",
    "school_summary['per_student_budget'] = school_summary['total_school_budget'] / school_summary['total_student']\n",
    "school_summary['pass_math_ratio'] = round(school_summary['pass_math'] / school_summary['total_student'], 2)\n",
    "school_summary['pass_read_ratio'] = round(school_summary['pass_read'] / school_summary['total_student'], 2)\n",
    "school_summary['overall_pass_ratio'] = round((school_summary['pass_math_ratio'] + school_summary['pass_read_ratio'])/2, 2)\n",
    "school_summary\n",
    "\n",
    "school_summary.sort_values(['overall_pass_ratio', \n",
    "                            'pass_math_ratio', \n",
    "                            'pass_read_ratio'], ascending=False).head(5)\n"
   ]
  },
  {
   "cell_type": "code",
   "execution_count": 15,
   "metadata": {
    "scrolled": true
   },
   "outputs": [
    {
     "name": "stdout",
     "output_type": "stream",
     "text": [
      "Total school budget: 82932329558\n"
     ]
    }
   ],
   "source": [
    "total_budget = school_data_complete[\"budget\"].sum()\n",
    "print(f'Total school budget: {total_budget}')\n",
    "\n"
   ]
  },
  {
   "cell_type": "code",
   "execution_count": 16,
   "metadata": {},
   "outputs": [
    {
     "name": "stdout",
     "output_type": "stream",
     "text": [
      "Average math score: 78.98537145774827\n"
     ]
    }
   ],
   "source": [
    "avg_math = school_data_complete[\"math_score\"].mean()\n",
    "print(f'Average math score: {avg_math}')\n",
    "\n",
    "\n"
   ]
  },
  {
   "cell_type": "code",
   "execution_count": null,
   "metadata": {},
   "outputs": [],
   "source": [
    "\n",
    "\n",
    "\n"
   ]
  },
  {
   "cell_type": "markdown",
   "metadata": {},
   "source": [
    "#### Find the passing rate for math and reading (above 70 points)"
   ]
  },
  {
   "cell_type": "code",
   "execution_count": 17,
   "metadata": {},
   "outputs": [],
   "source": [
    "# Find the total counts of math result\n",
    "\n",
    "\n",
    "# Find the counts for math result in each school that pass 70 or higher\n",
    "\n",
    "\n",
    "# Calculate the math passing rate\n",
    "\n",
    "\n"
   ]
  },
  {
   "cell_type": "code",
   "execution_count": 18,
   "metadata": {},
   "outputs": [],
   "source": [
    "# Find the total counts of read result\n",
    "\n",
    "\n",
    "# Find the counts for read result in each school that pass 70 or higher\n",
    "\n",
    "\n",
    "# Calculate the read passing rate\n",
    "\n"
   ]
  },
  {
   "cell_type": "code",
   "execution_count": 19,
   "metadata": {},
   "outputs": [],
   "source": [
    "# Calculate the overall passing rate (average of the math and reading passing rate)\n",
    "\n",
    "\n"
   ]
  },
  {
   "cell_type": "code",
   "execution_count": null,
   "metadata": {},
   "outputs": [],
   "source": []
  },
  {
   "cell_type": "code",
   "execution_count": null,
   "metadata": {},
   "outputs": [],
   "source": []
  },
  {
   "cell_type": "code",
   "execution_count": null,
   "metadata": {},
   "outputs": [],
   "source": []
  },
  {
   "cell_type": "markdown",
   "metadata": {},
   "source": [
    "### Bottom Performing Schools (By Passing Rate)"
   ]
  },
  {
   "cell_type": "markdown",
   "metadata": {},
   "source": [
    "* Sort and display the five worst-performing schools"
   ]
  },
  {
   "cell_type": "code",
   "execution_count": 20,
   "metadata": {},
   "outputs": [
    {
     "data": {
      "text/html": [
       "<div>\n",
       "<style scoped>\n",
       "    .dataframe tbody tr th:only-of-type {\n",
       "        vertical-align: middle;\n",
       "    }\n",
       "\n",
       "    .dataframe tbody tr th {\n",
       "        vertical-align: top;\n",
       "    }\n",
       "\n",
       "    .dataframe thead th {\n",
       "        text-align: right;\n",
       "    }\n",
       "</style>\n",
       "<table border=\"1\" class=\"dataframe\">\n",
       "  <thead>\n",
       "    <tr style=\"text-align: right;\">\n",
       "      <th></th>\n",
       "      <th>school_name</th>\n",
       "      <th>type</th>\n",
       "      <th>total_student</th>\n",
       "      <th>total_school_budget</th>\n",
       "      <th>avg_math_score</th>\n",
       "      <th>avg_read_score</th>\n",
       "      <th>pass_math</th>\n",
       "      <th>pass_read</th>\n",
       "      <th>per_student_budget</th>\n",
       "      <th>pass_math_ratio</th>\n",
       "      <th>pass_read_ratio</th>\n",
       "      <th>overall_pass_ratio</th>\n",
       "    </tr>\n",
       "  </thead>\n",
       "  <tbody>\n",
       "    <tr>\n",
       "      <th>7</th>\n",
       "      <td>Huang High School</td>\n",
       "      <td>District</td>\n",
       "      <td>2917</td>\n",
       "      <td>5573322295</td>\n",
       "      <td>76.629414</td>\n",
       "      <td>81.182722</td>\n",
       "      <td>1847</td>\n",
       "      <td>2299</td>\n",
       "      <td>1910635.0</td>\n",
       "      <td>0.63</td>\n",
       "      <td>0.79</td>\n",
       "      <td>0.71</td>\n",
       "    </tr>\n",
       "    <tr>\n",
       "      <th>2</th>\n",
       "      <td>Figueroa High School</td>\n",
       "      <td>District</td>\n",
       "      <td>2949</td>\n",
       "      <td>5557128039</td>\n",
       "      <td>76.711767</td>\n",
       "      <td>81.158020</td>\n",
       "      <td>1880</td>\n",
       "      <td>2313</td>\n",
       "      <td>1884411.0</td>\n",
       "      <td>0.64</td>\n",
       "      <td>0.78</td>\n",
       "      <td>0.71</td>\n",
       "    </tr>\n",
       "    <tr>\n",
       "      <th>8</th>\n",
       "      <td>Johnson High School</td>\n",
       "      <td>District</td>\n",
       "      <td>4761</td>\n",
       "      <td>14733628650</td>\n",
       "      <td>77.072464</td>\n",
       "      <td>80.966394</td>\n",
       "      <td>3040</td>\n",
       "      <td>3727</td>\n",
       "      <td>3094650.0</td>\n",
       "      <td>0.64</td>\n",
       "      <td>0.78</td>\n",
       "      <td>0.71</td>\n",
       "    </tr>\n",
       "    <tr>\n",
       "      <th>10</th>\n",
       "      <td>Rodriguez High School</td>\n",
       "      <td>District</td>\n",
       "      <td>3999</td>\n",
       "      <td>10186904637</td>\n",
       "      <td>76.842711</td>\n",
       "      <td>80.744686</td>\n",
       "      <td>2562</td>\n",
       "      <td>3109</td>\n",
       "      <td>2547363.0</td>\n",
       "      <td>0.64</td>\n",
       "      <td>0.78</td>\n",
       "      <td>0.71</td>\n",
       "    </tr>\n",
       "    <tr>\n",
       "      <th>5</th>\n",
       "      <td>Hernandez High School</td>\n",
       "      <td>District</td>\n",
       "      <td>4635</td>\n",
       "      <td>14007062700</td>\n",
       "      <td>77.289752</td>\n",
       "      <td>80.934412</td>\n",
       "      <td>3001</td>\n",
       "      <td>3624</td>\n",
       "      <td>3022020.0</td>\n",
       "      <td>0.65</td>\n",
       "      <td>0.78</td>\n",
       "      <td>0.72</td>\n",
       "    </tr>\n",
       "  </tbody>\n",
       "</table>\n",
       "</div>"
      ],
      "text/plain": [
       "              school_name      type  total_student  total_school_budget  \\\n",
       "7       Huang High School  District           2917           5573322295   \n",
       "2    Figueroa High School  District           2949           5557128039   \n",
       "8     Johnson High School  District           4761          14733628650   \n",
       "10  Rodriguez High School  District           3999          10186904637   \n",
       "5   Hernandez High School  District           4635          14007062700   \n",
       "\n",
       "    avg_math_score  avg_read_score  pass_math  pass_read  per_student_budget  \\\n",
       "7        76.629414       81.182722       1847       2299           1910635.0   \n",
       "2        76.711767       81.158020       1880       2313           1884411.0   \n",
       "8        77.072464       80.966394       3040       3727           3094650.0   \n",
       "10       76.842711       80.744686       2562       3109           2547363.0   \n",
       "5        77.289752       80.934412       3001       3624           3022020.0   \n",
       "\n",
       "    pass_math_ratio  pass_read_ratio  overall_pass_ratio  \n",
       "7              0.63             0.79                0.71  \n",
       "2              0.64             0.78                0.71  \n",
       "8              0.64             0.78                0.71  \n",
       "10             0.64             0.78                0.71  \n",
       "5              0.65             0.78                0.72  "
      ]
     },
     "execution_count": 20,
     "metadata": {},
     "output_type": "execute_result"
    }
   ],
   "source": [
    "school_summary.sort_values(['overall_pass_ratio', \n",
    "                            'pass_math_ratio', \n",
    "                            'pass_read_ratio']).head(5)\n",
    "\n",
    "\n"
   ]
  },
  {
   "cell_type": "markdown",
   "metadata": {
    "collapsed": true
   },
   "source": [
    "## Math Scores by Grade"
   ]
  },
  {
   "cell_type": "markdown",
   "metadata": {},
   "source": [
    "* Create a table that lists the average Reading Score for students of each grade level (9th, 10th, 11th, 12th) at each school.\n",
    "\n",
    "  * Create a pandas series for each grade. Hint: use a conditional statement.\n",
    "  \n",
    "  * Group each series by school\n",
    "  \n",
    "  * Combine the series into a dataframe\n",
    "  \n",
    "  * Optional: give the displayed data cleaner formatting"
   ]
  },
  {
   "cell_type": "code",
   "execution_count": 21,
   "metadata": {},
   "outputs": [],
   "source": [
    "# Create table that lists the average math score for each school of each grade level.\n",
    "\n",
    "\n"
   ]
  },
  {
   "cell_type": "code",
   "execution_count": 22,
   "metadata": {},
   "outputs": [],
   "source": [
    "# Calculate the average math score for 9th grade in each school\n",
    "grade_9_df = school_data_complete.loc[school_data_complete[\"grade\"] == \"9th\", :]\n",
    "grade_9_math = grade_9_df.groupby([\"school_name\"])['math_score'].mean()\n",
    "\n"
   ]
  },
  {
   "cell_type": "code",
   "execution_count": 23,
   "metadata": {},
   "outputs": [],
   "source": [
    "# Calculate the average math score for 10th grade in each school\n",
    "grade_10_df = school_data_complete.loc[school_data_complete[\"grade\"] == \"10th\", :]\n",
    "grade_10_math = grade_10_df.groupby([\"school_name\"])['math_score'].mean()\n",
    "\n"
   ]
  },
  {
   "cell_type": "code",
   "execution_count": 24,
   "metadata": {},
   "outputs": [],
   "source": [
    "# Calculate the average math score for 11th grade in each school\n",
    "\n",
    "grade_11_df = school_data_complete.loc[school_data_complete[\"grade\"] == \"11th\", :]\n",
    "grade_11_math = grade_11_df.groupby([\"school_name\"])['math_score'].mean()\n"
   ]
  },
  {
   "cell_type": "code",
   "execution_count": 26,
   "metadata": {},
   "outputs": [
    {
     "data": {
      "text/html": [
       "<div>\n",
       "<style scoped>\n",
       "    .dataframe tbody tr th:only-of-type {\n",
       "        vertical-align: middle;\n",
       "    }\n",
       "\n",
       "    .dataframe tbody tr th {\n",
       "        vertical-align: top;\n",
       "    }\n",
       "\n",
       "    .dataframe thead th {\n",
       "        text-align: right;\n",
       "    }\n",
       "</style>\n",
       "<table border=\"1\" class=\"dataframe\">\n",
       "  <thead>\n",
       "    <tr style=\"text-align: right;\">\n",
       "      <th></th>\n",
       "      <th>school_name</th>\n",
       "      <th>9th</th>\n",
       "      <th>10th</th>\n",
       "      <th>11th</th>\n",
       "      <th>12th</th>\n",
       "    </tr>\n",
       "  </thead>\n",
       "  <tbody>\n",
       "    <tr>\n",
       "      <th>0</th>\n",
       "      <td>Bailey High School</td>\n",
       "      <td>77.083676</td>\n",
       "      <td>76.996772</td>\n",
       "      <td>77.515588</td>\n",
       "      <td>76.492218</td>\n",
       "    </tr>\n",
       "    <tr>\n",
       "      <th>1</th>\n",
       "      <td>Cabrera High School</td>\n",
       "      <td>83.094697</td>\n",
       "      <td>83.154506</td>\n",
       "      <td>82.765560</td>\n",
       "      <td>83.277487</td>\n",
       "    </tr>\n",
       "    <tr>\n",
       "      <th>2</th>\n",
       "      <td>Figueroa High School</td>\n",
       "      <td>76.403037</td>\n",
       "      <td>76.539974</td>\n",
       "      <td>76.884344</td>\n",
       "      <td>77.151369</td>\n",
       "    </tr>\n",
       "    <tr>\n",
       "      <th>3</th>\n",
       "      <td>Ford High School</td>\n",
       "      <td>77.361345</td>\n",
       "      <td>77.672316</td>\n",
       "      <td>76.918058</td>\n",
       "      <td>76.179963</td>\n",
       "    </tr>\n",
       "    <tr>\n",
       "      <th>4</th>\n",
       "      <td>Griffin High School</td>\n",
       "      <td>82.044010</td>\n",
       "      <td>84.229064</td>\n",
       "      <td>83.842105</td>\n",
       "      <td>83.356164</td>\n",
       "    </tr>\n",
       "    <tr>\n",
       "      <th>5</th>\n",
       "      <td>Hernandez High School</td>\n",
       "      <td>77.438495</td>\n",
       "      <td>77.337408</td>\n",
       "      <td>77.136029</td>\n",
       "      <td>77.186567</td>\n",
       "    </tr>\n",
       "    <tr>\n",
       "      <th>6</th>\n",
       "      <td>Holden High School</td>\n",
       "      <td>83.787402</td>\n",
       "      <td>83.429825</td>\n",
       "      <td>85.000000</td>\n",
       "      <td>82.855422</td>\n",
       "    </tr>\n",
       "    <tr>\n",
       "      <th>7</th>\n",
       "      <td>Huang High School</td>\n",
       "      <td>77.027251</td>\n",
       "      <td>75.908735</td>\n",
       "      <td>76.446602</td>\n",
       "      <td>77.225641</td>\n",
       "    </tr>\n",
       "    <tr>\n",
       "      <th>8</th>\n",
       "      <td>Johnson High School</td>\n",
       "      <td>77.187857</td>\n",
       "      <td>76.691117</td>\n",
       "      <td>77.491653</td>\n",
       "      <td>76.863248</td>\n",
       "    </tr>\n",
       "    <tr>\n",
       "      <th>9</th>\n",
       "      <td>Pena High School</td>\n",
       "      <td>83.625455</td>\n",
       "      <td>83.372000</td>\n",
       "      <td>84.328125</td>\n",
       "      <td>84.121547</td>\n",
       "    </tr>\n",
       "    <tr>\n",
       "      <th>10</th>\n",
       "      <td>Rodriguez High School</td>\n",
       "      <td>76.859966</td>\n",
       "      <td>76.612500</td>\n",
       "      <td>76.395626</td>\n",
       "      <td>77.690748</td>\n",
       "    </tr>\n",
       "    <tr>\n",
       "      <th>11</th>\n",
       "      <td>Shelton High School</td>\n",
       "      <td>83.420755</td>\n",
       "      <td>82.917411</td>\n",
       "      <td>83.383495</td>\n",
       "      <td>83.778976</td>\n",
       "    </tr>\n",
       "    <tr>\n",
       "      <th>12</th>\n",
       "      <td>Thomas High School</td>\n",
       "      <td>83.590022</td>\n",
       "      <td>83.087886</td>\n",
       "      <td>83.498795</td>\n",
       "      <td>83.497041</td>\n",
       "    </tr>\n",
       "    <tr>\n",
       "      <th>13</th>\n",
       "      <td>Wilson High School</td>\n",
       "      <td>83.085578</td>\n",
       "      <td>83.724422</td>\n",
       "      <td>83.195326</td>\n",
       "      <td>83.035794</td>\n",
       "    </tr>\n",
       "    <tr>\n",
       "      <th>14</th>\n",
       "      <td>Wright High School</td>\n",
       "      <td>83.264706</td>\n",
       "      <td>84.010288</td>\n",
       "      <td>83.836782</td>\n",
       "      <td>83.644986</td>\n",
       "    </tr>\n",
       "  </tbody>\n",
       "</table>\n",
       "</div>"
      ],
      "text/plain": [
       "              school_name        9th       10th       11th       12th\n",
       "0      Bailey High School  77.083676  76.996772  77.515588  76.492218\n",
       "1     Cabrera High School  83.094697  83.154506  82.765560  83.277487\n",
       "2    Figueroa High School  76.403037  76.539974  76.884344  77.151369\n",
       "3        Ford High School  77.361345  77.672316  76.918058  76.179963\n",
       "4     Griffin High School  82.044010  84.229064  83.842105  83.356164\n",
       "5   Hernandez High School  77.438495  77.337408  77.136029  77.186567\n",
       "6      Holden High School  83.787402  83.429825  85.000000  82.855422\n",
       "7       Huang High School  77.027251  75.908735  76.446602  77.225641\n",
       "8     Johnson High School  77.187857  76.691117  77.491653  76.863248\n",
       "9        Pena High School  83.625455  83.372000  84.328125  84.121547\n",
       "10  Rodriguez High School  76.859966  76.612500  76.395626  77.690748\n",
       "11    Shelton High School  83.420755  82.917411  83.383495  83.778976\n",
       "12     Thomas High School  83.590022  83.087886  83.498795  83.497041\n",
       "13     Wilson High School  83.085578  83.724422  83.195326  83.035794\n",
       "14     Wright High School  83.264706  84.010288  83.836782  83.644986"
      ]
     },
     "execution_count": 26,
     "metadata": {},
     "output_type": "execute_result"
    }
   ],
   "source": [
    "# Calculate the average math score for 12th grade in each school\n",
    "grade_12_df = school_data_complete.loc[school_data_complete[\"grade\"] == \"12th\", :]\n",
    "grade_12_math = grade_12_df.groupby([\"school_name\"])['math_score'].mean()\n",
    "\n",
    "pd.DataFrame({'9th':grade_9_math,\n",
    "             '10th':grade_10_math,\n",
    "             '11th':grade_11_math,\n",
    "             '12th':grade_12_math}).reset_index()"
   ]
  },
  {
   "cell_type": "markdown",
   "metadata": {},
   "source": [
    "### Reading Score by Grade "
   ]
  },
  {
   "cell_type": "markdown",
   "metadata": {},
   "source": [
    "* Perform the same operations as above for reading scores"
   ]
  },
  {
   "cell_type": "code",
   "execution_count": null,
   "metadata": {},
   "outputs": [],
   "source": [
    "# Create table that lists the average reading score for each school of each grade level.\n",
    "\n"
   ]
  },
  {
   "cell_type": "code",
   "execution_count": 27,
   "metadata": {},
   "outputs": [],
   "source": [
    "# Calculate the average reading score for 9th grade in each school\n",
    "\n",
    "grade_9_read = grade_9_df.groupby([\"school_name\"])['reading_score'].mean()\n"
   ]
  },
  {
   "cell_type": "code",
   "execution_count": 28,
   "metadata": {},
   "outputs": [],
   "source": [
    "# Calculate the average reading score for 10th grade in each school\n",
    "\n",
    "grade_10_read = grade_10_df.groupby([\"school_name\"])['reading_score'].mean()\n"
   ]
  },
  {
   "cell_type": "code",
   "execution_count": 31,
   "metadata": {},
   "outputs": [],
   "source": [
    "# Calculate the average reading score for 11th grade in each school\n",
    "\n",
    "grade_11_read = grade_11_df.groupby([\"school_name\"])['reading_score'].mean()\n"
   ]
  },
  {
   "cell_type": "code",
   "execution_count": 32,
   "metadata": {},
   "outputs": [
    {
     "data": {
      "text/html": [
       "<div>\n",
       "<style scoped>\n",
       "    .dataframe tbody tr th:only-of-type {\n",
       "        vertical-align: middle;\n",
       "    }\n",
       "\n",
       "    .dataframe tbody tr th {\n",
       "        vertical-align: top;\n",
       "    }\n",
       "\n",
       "    .dataframe thead th {\n",
       "        text-align: right;\n",
       "    }\n",
       "</style>\n",
       "<table border=\"1\" class=\"dataframe\">\n",
       "  <thead>\n",
       "    <tr style=\"text-align: right;\">\n",
       "      <th></th>\n",
       "      <th>school_name</th>\n",
       "      <th>9th</th>\n",
       "      <th>10th</th>\n",
       "      <th>11th</th>\n",
       "      <th>12th</th>\n",
       "    </tr>\n",
       "  </thead>\n",
       "  <tbody>\n",
       "    <tr>\n",
       "      <th>0</th>\n",
       "      <td>Bailey High School</td>\n",
       "      <td>81.303155</td>\n",
       "      <td>80.907183</td>\n",
       "      <td>80.945643</td>\n",
       "      <td>80.912451</td>\n",
       "    </tr>\n",
       "    <tr>\n",
       "      <th>1</th>\n",
       "      <td>Cabrera High School</td>\n",
       "      <td>83.676136</td>\n",
       "      <td>84.253219</td>\n",
       "      <td>83.788382</td>\n",
       "      <td>84.287958</td>\n",
       "    </tr>\n",
       "    <tr>\n",
       "      <th>2</th>\n",
       "      <td>Figueroa High School</td>\n",
       "      <td>81.198598</td>\n",
       "      <td>81.408912</td>\n",
       "      <td>80.640339</td>\n",
       "      <td>81.384863</td>\n",
       "    </tr>\n",
       "    <tr>\n",
       "      <th>3</th>\n",
       "      <td>Ford High School</td>\n",
       "      <td>80.632653</td>\n",
       "      <td>81.262712</td>\n",
       "      <td>80.403642</td>\n",
       "      <td>80.662338</td>\n",
       "    </tr>\n",
       "    <tr>\n",
       "      <th>4</th>\n",
       "      <td>Griffin High School</td>\n",
       "      <td>83.369193</td>\n",
       "      <td>83.706897</td>\n",
       "      <td>84.288089</td>\n",
       "      <td>84.013699</td>\n",
       "    </tr>\n",
       "    <tr>\n",
       "      <th>5</th>\n",
       "      <td>Hernandez High School</td>\n",
       "      <td>80.866860</td>\n",
       "      <td>80.660147</td>\n",
       "      <td>81.396140</td>\n",
       "      <td>80.857143</td>\n",
       "    </tr>\n",
       "    <tr>\n",
       "      <th>6</th>\n",
       "      <td>Holden High School</td>\n",
       "      <td>83.677165</td>\n",
       "      <td>83.324561</td>\n",
       "      <td>83.815534</td>\n",
       "      <td>84.698795</td>\n",
       "    </tr>\n",
       "    <tr>\n",
       "      <th>7</th>\n",
       "      <td>Huang High School</td>\n",
       "      <td>81.290284</td>\n",
       "      <td>81.512386</td>\n",
       "      <td>81.417476</td>\n",
       "      <td>80.305983</td>\n",
       "    </tr>\n",
       "    <tr>\n",
       "      <th>8</th>\n",
       "      <td>Johnson High School</td>\n",
       "      <td>81.260714</td>\n",
       "      <td>80.773431</td>\n",
       "      <td>80.616027</td>\n",
       "      <td>81.227564</td>\n",
       "    </tr>\n",
       "    <tr>\n",
       "      <th>9</th>\n",
       "      <td>Pena High School</td>\n",
       "      <td>83.807273</td>\n",
       "      <td>83.612000</td>\n",
       "      <td>84.335938</td>\n",
       "      <td>84.591160</td>\n",
       "    </tr>\n",
       "    <tr>\n",
       "      <th>10</th>\n",
       "      <td>Rodriguez High School</td>\n",
       "      <td>80.993127</td>\n",
       "      <td>80.629808</td>\n",
       "      <td>80.864811</td>\n",
       "      <td>80.376426</td>\n",
       "    </tr>\n",
       "    <tr>\n",
       "      <th>11</th>\n",
       "      <td>Shelton High School</td>\n",
       "      <td>84.122642</td>\n",
       "      <td>83.441964</td>\n",
       "      <td>84.373786</td>\n",
       "      <td>82.781671</td>\n",
       "    </tr>\n",
       "    <tr>\n",
       "      <th>12</th>\n",
       "      <td>Thomas High School</td>\n",
       "      <td>83.728850</td>\n",
       "      <td>84.254157</td>\n",
       "      <td>83.585542</td>\n",
       "      <td>83.831361</td>\n",
       "    </tr>\n",
       "    <tr>\n",
       "      <th>13</th>\n",
       "      <td>Wilson High School</td>\n",
       "      <td>83.939778</td>\n",
       "      <td>84.021452</td>\n",
       "      <td>83.764608</td>\n",
       "      <td>84.317673</td>\n",
       "    </tr>\n",
       "    <tr>\n",
       "      <th>14</th>\n",
       "      <td>Wright High School</td>\n",
       "      <td>83.833333</td>\n",
       "      <td>83.812757</td>\n",
       "      <td>84.156322</td>\n",
       "      <td>84.073171</td>\n",
       "    </tr>\n",
       "  </tbody>\n",
       "</table>\n",
       "</div>"
      ],
      "text/plain": [
       "              school_name        9th       10th       11th       12th\n",
       "0      Bailey High School  81.303155  80.907183  80.945643  80.912451\n",
       "1     Cabrera High School  83.676136  84.253219  83.788382  84.287958\n",
       "2    Figueroa High School  81.198598  81.408912  80.640339  81.384863\n",
       "3        Ford High School  80.632653  81.262712  80.403642  80.662338\n",
       "4     Griffin High School  83.369193  83.706897  84.288089  84.013699\n",
       "5   Hernandez High School  80.866860  80.660147  81.396140  80.857143\n",
       "6      Holden High School  83.677165  83.324561  83.815534  84.698795\n",
       "7       Huang High School  81.290284  81.512386  81.417476  80.305983\n",
       "8     Johnson High School  81.260714  80.773431  80.616027  81.227564\n",
       "9        Pena High School  83.807273  83.612000  84.335938  84.591160\n",
       "10  Rodriguez High School  80.993127  80.629808  80.864811  80.376426\n",
       "11    Shelton High School  84.122642  83.441964  84.373786  82.781671\n",
       "12     Thomas High School  83.728850  84.254157  83.585542  83.831361\n",
       "13     Wilson High School  83.939778  84.021452  83.764608  84.317673\n",
       "14     Wright High School  83.833333  83.812757  84.156322  84.073171"
      ]
     },
     "execution_count": 32,
     "metadata": {},
     "output_type": "execute_result"
    }
   ],
   "source": [
    "# Calculate the average reading score for 12th grade in each school\n",
    "grade_12_read = grade_12_df.groupby([\"school_name\"])['reading_score'].mean()\n",
    "\n",
    "pd.DataFrame({'9th':grade_9_read,\n",
    "             '10th':grade_10_read,\n",
    "             '11th':grade_11_read,\n",
    "             '12th':grade_12_read}).reset_index()"
   ]
  },
  {
   "cell_type": "markdown",
   "metadata": {},
   "source": [
    "## Scores by School Spending"
   ]
  },
  {
   "cell_type": "markdown",
   "metadata": {},
   "source": [
    "* Create a table that breaks down school performances based on average Spending Ranges (Per Student). Use 4 reasonable bins to group school spending. Include in the table each of the following:\n",
    "  * Average Math Score\n",
    "  * Average Reading Score\n",
    "  * % Passing Math\n",
    "  * % Passing Reading\n",
    "  * Overall Passing Rate (Average of the above two)"
   ]
  },
  {
   "cell_type": "code",
   "execution_count": 46,
   "metadata": {},
   "outputs": [],
   "source": [
    "# Sample bins. Feel free to create your own bins.\n",
    "spending_bins = [0, 585, 615, 645, 675]\n",
    "group_names = [\"<$585\", \"$585-615\", \"$615-645\", \"$645-675\"]"
   ]
  },
  {
   "cell_type": "code",
   "execution_count": 47,
   "metadata": {},
   "outputs": [],
   "source": [
    "# Create a new column to show budget per student in each row\n",
    "school_data_complete[\"spending per student\"] = school_data_complete[\"budget\"] / school_data_complete[\"size\"]\n",
    "\n"
   ]
  },
  {
   "cell_type": "code",
   "execution_count": 48,
   "metadata": {},
   "outputs": [],
   "source": [
    "# Create a new column to define the spending ranges per student\n",
    "\n",
    "school_data_complete[\"spending\"] = pd.cut(\n",
    "    school_data_complete[\"spending per student\"], spending_bins, labels=group_names)\n"
   ]
  },
  {
   "cell_type": "code",
   "execution_count": 49,
   "metadata": {},
   "outputs": [
    {
     "name": "stderr",
     "output_type": "stream",
     "text": [
      "C:\\Users\\kurox\\AppData\\Local\\Temp\\ipykernel_12904\\1042318415.py:3: FutureWarning: The default of observed=False is deprecated and will be changed to True in a future version of pandas. Pass observed=False to retain current behavior or observed=True to adopt the future default and silence this warning.\n",
      "  spending_range_df = school_data_complete.groupby([\"spending\"])\n"
     ]
    }
   ],
   "source": [
    "# Calculate the average math score within each spending range\n",
    "\n",
    "spending_range_df = school_data_complete.groupby([\"spending\"])\n",
    "avg_math_range = spending_range_df[\"math_score\"].mean().reset_index()\n",
    "avg_read_range = spending_range_df[\"reading_score\"].mean().reset_index()\n",
    "\n"
   ]
  },
  {
   "cell_type": "code",
   "execution_count": 54,
   "metadata": {},
   "outputs": [
    {
     "name": "stderr",
     "output_type": "stream",
     "text": [
      "C:\\Users\\kurox\\AppData\\Local\\Temp\\ipykernel_12904\\625293796.py:5: FutureWarning: The default of observed=False is deprecated and will be changed to True in a future version of pandas. Pass observed=False to retain current behavior or observed=True to adopt the future default and silence this warning.\n",
      "  spending_math_pass_df = spending_math_pass.groupby([\"spending\"])\n"
     ]
    }
   ],
   "source": [
    "# Calculate the percentage passing rate for math in each spending range\n",
    "avg_score = avg_math_range.merge(avg_read_range)\n",
    "\n",
    "spending_math_pass = school_data_complete.loc[school_data_complete[\"math_score\"] >= 70, :]\n",
    "spending_math_pass_df = spending_math_pass.groupby([\"spending\"])\n",
    "math_pass_sp = spending_math_pass_df[\"math_score\"].count()\n",
    "math_total_sp = spending_range_df[\"math_score\"].count()\n",
    "math_percent_pass = math_pass_sp / math_total_sp\n",
    "math_percent_pass = math_percent_pass.reset_index()\n",
    "\n"
   ]
  },
  {
   "cell_type": "code",
   "execution_count": 55,
   "metadata": {},
   "outputs": [
    {
     "name": "stderr",
     "output_type": "stream",
     "text": [
      "C:\\Users\\kurox\\AppData\\Local\\Temp\\ipykernel_12904\\4023156991.py:4: FutureWarning: The default of observed=False is deprecated and will be changed to True in a future version of pandas. Pass observed=False to retain current behavior or observed=True to adopt the future default and silence this warning.\n",
      "  spending_read_pass_df = spending_read_pass.groupby([\"spending\"])\n"
     ]
    }
   ],
   "source": [
    "# Calculate the percentage passing rate for reading in each spending range\n",
    "\n",
    "spending_read_pass = school_data_complete.loc[school_data_complete[\"reading_score\"] >= 70, :]\n",
    "spending_read_pass_df = spending_read_pass.groupby([\"spending\"])\n",
    "read_pass_sp = spending_read_pass_df[\"reading_score\"].count()\n",
    "read_total_sp = spending_range_df[\"reading_score\"].count()\n",
    "read_percent_pass = read_pass_sp / read_total_sp\n",
    "read_percent_pass = read_percent_pass.reset_index()\n"
   ]
  },
  {
   "cell_type": "code",
   "execution_count": 56,
   "metadata": {},
   "outputs": [
    {
     "data": {
      "text/html": [
       "<div>\n",
       "<style scoped>\n",
       "    .dataframe tbody tr th:only-of-type {\n",
       "        vertical-align: middle;\n",
       "    }\n",
       "\n",
       "    .dataframe tbody tr th {\n",
       "        vertical-align: top;\n",
       "    }\n",
       "\n",
       "    .dataframe thead th {\n",
       "        text-align: right;\n",
       "    }\n",
       "</style>\n",
       "<table border=\"1\" class=\"dataframe\">\n",
       "  <thead>\n",
       "    <tr style=\"text-align: right;\">\n",
       "      <th></th>\n",
       "      <th>spending</th>\n",
       "      <th>math_pass</th>\n",
       "      <th>read_pass</th>\n",
       "      <th>math_score</th>\n",
       "      <th>reading_score</th>\n",
       "      <th>overall_score</th>\n",
       "    </tr>\n",
       "  </thead>\n",
       "  <tbody>\n",
       "    <tr>\n",
       "      <th>0</th>\n",
       "      <td>&lt;$585</td>\n",
       "      <td>0.937029</td>\n",
       "      <td>0.966866</td>\n",
       "      <td>83.363065</td>\n",
       "      <td>83.964039</td>\n",
       "      <td>0.951947</td>\n",
       "    </tr>\n",
       "    <tr>\n",
       "      <th>1</th>\n",
       "      <td>$585-615</td>\n",
       "      <td>0.941241</td>\n",
       "      <td>0.958869</td>\n",
       "      <td>83.529196</td>\n",
       "      <td>83.838414</td>\n",
       "      <td>0.950055</td>\n",
       "    </tr>\n",
       "    <tr>\n",
       "      <th>2</th>\n",
       "      <td>$615-645</td>\n",
       "      <td>0.714004</td>\n",
       "      <td>0.836148</td>\n",
       "      <td>78.061635</td>\n",
       "      <td>81.434088</td>\n",
       "      <td>0.775076</td>\n",
       "    </tr>\n",
       "    <tr>\n",
       "      <th>3</th>\n",
       "      <td>$645-675</td>\n",
       "      <td>0.662308</td>\n",
       "      <td>0.811094</td>\n",
       "      <td>77.049297</td>\n",
       "      <td>81.005604</td>\n",
       "      <td>0.736701</td>\n",
       "    </tr>\n",
       "  </tbody>\n",
       "</table>\n",
       "</div>"
      ],
      "text/plain": [
       "   spending  math_pass  read_pass  math_score  reading_score  overall_score\n",
       "0     <$585   0.937029   0.966866   83.363065      83.964039       0.951947\n",
       "1  $585-615   0.941241   0.958869   83.529196      83.838414       0.950055\n",
       "2  $615-645   0.714004   0.836148   78.061635      81.434088       0.775076\n",
       "3  $645-675   0.662308   0.811094   77.049297      81.005604       0.736701"
      ]
     },
     "execution_count": 56,
     "metadata": {},
     "output_type": "execute_result"
    }
   ],
   "source": [
    "# Calculate the percentage overall passing rate in each spending range\n",
    "percent_pass = math_percent_pass.merge(read_percent_pass)\n",
    "percent_pass = percent_pass.rename({'math_score':'math_pass',\n",
    "                                   'reading_score':'read_pass'},\n",
    "                                  axis=1)\n",
    "school_spending_df = percent_pass.merge(avg_score, how='inner',\n",
    "                                       left_on='spending',\n",
    "                                       right_on='spending')\n",
    "\n",
    "school_spending_df['overall_score'] = (school_spending_df['math_pass'] + school_spending_df['read_pass']) / 2\n",
    "\n",
    "school_spending_df\n"
   ]
  },
  {
   "cell_type": "markdown",
   "metadata": {},
   "source": [
    "### Scores by School Size"
   ]
  },
  {
   "cell_type": "markdown",
   "metadata": {},
   "source": [
    "* Perform the same operations as above, based on school size."
   ]
  },
  {
   "cell_type": "code",
   "execution_count": 58,
   "metadata": {},
   "outputs": [],
   "source": [
    "# Sample bins. Feel free to create your own bins.\n",
    "size_bins = [0, 1000, 2000, 5000]\n",
    "group_names = [\"Small (<1000)\", \"Medium (1000-2000)\", \"Large (2000-5000)\"]"
   ]
  },
  {
   "cell_type": "code",
   "execution_count": 59,
   "metadata": {
    "scrolled": true
   },
   "outputs": [
    {
     "name": "stderr",
     "output_type": "stream",
     "text": [
      "C:\\Users\\kurox\\AppData\\Local\\Temp\\ipykernel_12904\\2016380261.py:5: FutureWarning: The default of observed=False is deprecated and will be changed to True in a future version of pandas. Pass observed=False to retain current behavior or observed=True to adopt the future default and silence this warning.\n",
      "  size_df = school_data_complete.groupby([\"School Size\"])\n"
     ]
    }
   ],
   "source": [
    "# Create a new column for the bin groups\n",
    "school_data_complete[\"School Size\"] = pd.cut(school_data_complete[\"size\"],\n",
    "                                             size_bins, labels=group_names)\n",
    "\n",
    "size_df = school_data_complete.groupby([\"School Size\"])\n",
    "avg_math_size = size_df[\"math_score\"].mean()\n",
    "avg_read_read = size_df[\"reading_score\"].mean()\n",
    "test_count_size = size_df[\"Student ID\"].count()\n",
    "\n"
   ]
  },
  {
   "cell_type": "markdown",
   "metadata": {},
   "source": [
    "Look for the total count of test scores that pass 70% or higher\n",
    "\n",
    "\n"
   ]
  },
  {
   "cell_type": "code",
   "execution_count": 60,
   "metadata": {},
   "outputs": [
    {
     "name": "stderr",
     "output_type": "stream",
     "text": [
      "C:\\Users\\kurox\\AppData\\Local\\Temp\\ipykernel_12904\\2176349037.py:4: FutureWarning: The default of observed=False is deprecated and will be changed to True in a future version of pandas. Pass observed=False to retain current behavior or observed=True to adopt the future default and silence this warning.\n",
      "  math_pass_size_df = math_pass_size.groupby([\"School Size\"])\n"
     ]
    }
   ],
   "source": [
    "# math_pass_size\n",
    "math_pass_size = school_data_complete.loc[school_data_complete[\"math_score\"] >= 70, :]\n",
    "\n",
    "math_pass_size_df = math_pass_size.groupby([\"School Size\"])\n",
    "math_count_size = math_pass_size_df[\"math_score\"].count()\n",
    "math_pass_rate_size = math_count_size / test_count_size"
   ]
  },
  {
   "cell_type": "code",
   "execution_count": 61,
   "metadata": {},
   "outputs": [
    {
     "name": "stderr",
     "output_type": "stream",
     "text": [
      "C:\\Users\\kurox\\AppData\\Local\\Temp\\ipykernel_12904\\1482987060.py:4: FutureWarning: The default of observed=False is deprecated and will be changed to True in a future version of pandas. Pass observed=False to retain current behavior or observed=True to adopt the future default and silence this warning.\n",
      "  read_pass_size_df = read_pass_size.groupby([\"School Size\"])\n"
     ]
    }
   ],
   "source": [
    "# read_pass_size\n",
    "read_pass_size = school_data_complete.loc[school_data_complete[\"reading_score\"] >= 70, :]\n",
    "\n",
    "read_pass_size_df = read_pass_size.groupby([\"School Size\"])\n",
    "read_count_size = read_pass_size_df[\"reading_score\"].count()\n",
    "read_pass_rate_size = read_count_size / test_count_size\n"
   ]
  },
  {
   "cell_type": "code",
   "execution_count": 62,
   "metadata": {},
   "outputs": [
    {
     "data": {
      "text/html": [
       "<div>\n",
       "<style scoped>\n",
       "    .dataframe tbody tr th:only-of-type {\n",
       "        vertical-align: middle;\n",
       "    }\n",
       "\n",
       "    .dataframe tbody tr th {\n",
       "        vertical-align: top;\n",
       "    }\n",
       "\n",
       "    .dataframe thead th {\n",
       "        text-align: right;\n",
       "    }\n",
       "</style>\n",
       "<table border=\"1\" class=\"dataframe\">\n",
       "  <thead>\n",
       "    <tr style=\"text-align: right;\">\n",
       "      <th></th>\n",
       "      <th>School Size</th>\n",
       "      <th>math_pass</th>\n",
       "      <th>read_pass</th>\n",
       "      <th>overall_pass</th>\n",
       "    </tr>\n",
       "  </thead>\n",
       "  <tbody>\n",
       "    <tr>\n",
       "      <th>0</th>\n",
       "      <td>Small (&lt;1000)</td>\n",
       "      <td>0.939525</td>\n",
       "      <td>0.960403</td>\n",
       "      <td>0.949964</td>\n",
       "    </tr>\n",
       "    <tr>\n",
       "      <th>1</th>\n",
       "      <td>Medium (1000-2000)</td>\n",
       "      <td>0.936165</td>\n",
       "      <td>0.967731</td>\n",
       "      <td>0.951948</td>\n",
       "    </tr>\n",
       "    <tr>\n",
       "      <th>2</th>\n",
       "      <td>Large (2000-5000)</td>\n",
       "      <td>0.686524</td>\n",
       "      <td>0.821252</td>\n",
       "      <td>0.753888</td>\n",
       "    </tr>\n",
       "  </tbody>\n",
       "</table>\n",
       "</div>"
      ],
      "text/plain": [
       "          School Size  math_pass  read_pass  overall_pass\n",
       "0       Small (<1000)   0.939525   0.960403      0.949964\n",
       "1  Medium (1000-2000)   0.936165   0.967731      0.951948\n",
       "2   Large (2000-5000)   0.686524   0.821252      0.753888"
      ]
     },
     "execution_count": 62,
     "metadata": {},
     "output_type": "execute_result"
    }
   ],
   "source": [
    "# Calculate the overall passing rate for different school size\n",
    "\n",
    "overall_pass_rate_size = (math_pass_rate_size + read_pass_rate_size) / 2\n",
    "\n",
    "school_size_df = pd.DataFrame({'math_pass':math_pass_rate_size ,\n",
    "                               'read_pass':read_pass_rate_size, \n",
    "                               'overall_pass':overall_pass_rate_size}).reset_index()\n",
    "school_size_df\n"
   ]
  },
  {
   "cell_type": "markdown",
   "metadata": {},
   "source": [
    "### Scores by School Type"
   ]
  },
  {
   "cell_type": "markdown",
   "metadata": {},
   "source": [
    "* Perform the same operations as above, based on school type."
   ]
  },
  {
   "cell_type": "code",
   "execution_count": 63,
   "metadata": {},
   "outputs": [],
   "source": [
    "# Create bins and groups, school type {'Charter', 'District'}\n",
    "\n",
    "school_type = school_data_complete.groupby([\"type\"])\n",
    "avg_math_type = school_type[\"math_score\"].mean()\n",
    "avg_read_type = school_type[\"reading_score\"].mean()\n",
    "test_count_type = school_type[\"Student ID\"].count()\n"
   ]
  },
  {
   "cell_type": "markdown",
   "metadata": {},
   "source": [
    "Find counts of the passing 70 or higher score for the both test\n"
   ]
  },
  {
   "cell_type": "code",
   "execution_count": 64,
   "metadata": {},
   "outputs": [],
   "source": [
    "# math pass size\n",
    "\n",
    "math_pass_type = school_data_complete.loc[school_data_complete[\"math_score\"] >= 70, :]\n",
    "math_pass_type_df = math_pass_type.groupby([\"type\"])\n",
    "math_count_type = math_pass_type_df[\"math_score\"].count()\n",
    "math_pass_rate_type = math_count_type / test_count_type\n"
   ]
  },
  {
   "cell_type": "code",
   "execution_count": 65,
   "metadata": {},
   "outputs": [],
   "source": [
    "# reading pass size\n",
    "read_pass_type = school_data_complete.loc[school_data_complete[\"reading_score\"] >= 70, :]\n",
    "read_pass_type_df = read_pass_type.groupby([\"type\"])\n",
    "read_count_type = read_pass_type_df[\"reading_score\"].count()\n",
    "read_pass_rate_type = read_count_type / test_count_type\n"
   ]
  },
  {
   "cell_type": "code",
   "execution_count": 66,
   "metadata": {},
   "outputs": [
    {
     "data": {
      "text/html": [
       "<div>\n",
       "<style scoped>\n",
       "    .dataframe tbody tr th:only-of-type {\n",
       "        vertical-align: middle;\n",
       "    }\n",
       "\n",
       "    .dataframe tbody tr th {\n",
       "        vertical-align: top;\n",
       "    }\n",
       "\n",
       "    .dataframe thead th {\n",
       "        text-align: right;\n",
       "    }\n",
       "</style>\n",
       "<table border=\"1\" class=\"dataframe\">\n",
       "  <thead>\n",
       "    <tr style=\"text-align: right;\">\n",
       "      <th></th>\n",
       "      <th>math_pass</th>\n",
       "      <th>read_pass</th>\n",
       "      <th>overall_pass</th>\n",
       "    </tr>\n",
       "    <tr>\n",
       "      <th>type</th>\n",
       "      <th></th>\n",
       "      <th></th>\n",
       "      <th></th>\n",
       "    </tr>\n",
       "  </thead>\n",
       "  <tbody>\n",
       "    <tr>\n",
       "      <th>Charter</th>\n",
       "      <td>0.937018</td>\n",
       "      <td>0.966459</td>\n",
       "      <td>0.951739</td>\n",
       "    </tr>\n",
       "    <tr>\n",
       "      <th>District</th>\n",
       "      <td>0.665184</td>\n",
       "      <td>0.809052</td>\n",
       "      <td>0.737118</td>\n",
       "    </tr>\n",
       "  </tbody>\n",
       "</table>\n",
       "</div>"
      ],
      "text/plain": [
       "          math_pass  read_pass  overall_pass\n",
       "type                                        \n",
       "Charter    0.937018   0.966459      0.951739\n",
       "District   0.665184   0.809052      0.737118"
      ]
     },
     "execution_count": 66,
     "metadata": {},
     "output_type": "execute_result"
    }
   ],
   "source": [
    "# Calculate the overall passing rate\n",
    "overall_pass_rate_type = (math_pass_rate_type + read_pass_rate_type) / 2\n",
    "\n",
    "pd.DataFrame({'math_pass':math_pass_rate_type,\n",
    "              'read_pass':read_pass_rate_type,\n",
    "              'overall_pass':overall_pass_rate_type})\n"
   ]
  },
  {
   "cell_type": "code",
   "execution_count": null,
   "metadata": {},
   "outputs": [],
   "source": []
  }
 ],
 "metadata": {
  "anaconda-cloud": {},
  "kernel_info": {
   "name": "python3"
  },
  "kernelspec": {
   "display_name": "Python 3 (ipykernel)",
   "language": "python",
   "name": "python3"
  },
  "language_info": {
   "codemirror_mode": {
    "name": "ipython",
    "version": 3
   },
   "file_extension": ".py",
   "mimetype": "text/x-python",
   "name": "python",
   "nbconvert_exporter": "python",
   "pygments_lexer": "ipython3",
   "version": "3.11.4"
  },
  "latex_envs": {
   "LaTeX_envs_menu_present": true,
   "autoclose": false,
   "autocomplete": true,
   "bibliofile": "biblio.bib",
   "cite_by": "apalike",
   "current_citInitial": 1,
   "eqLabelWithNumbers": true,
   "eqNumInitial": 1,
   "hotkeys": {
    "equation": "Ctrl-E",
    "itemize": "Ctrl-I"
   },
   "labels_anchors": false,
   "latex_user_defs": false,
   "report_style_numbering": false,
   "user_envs_cfg": false
  },
  "nteract": {
   "version": "0.8.4"
  },
  "toc": {
   "base_numbering": 1,
   "nav_menu": {},
   "number_sections": true,
   "sideBar": true,
   "skip_h1_title": false,
   "title_cell": "Table of Contents",
   "title_sidebar": "Contents",
   "toc_cell": false,
   "toc_position": {},
   "toc_section_display": true,
   "toc_window_display": false
  }
 },
 "nbformat": 4,
 "nbformat_minor": 1
}
